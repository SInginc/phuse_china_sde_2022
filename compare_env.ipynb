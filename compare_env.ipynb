{
 "cells": [
  {
   "cell_type": "code",
   "execution_count": null,
   "metadata": {},
   "outputs": [],
   "source": [
    "%reset -f"
   ]
  },
  {
   "cell_type": "markdown",
   "metadata": {},
   "source": [
    "# Import"
   ]
  },
  {
   "cell_type": "code",
   "execution_count": null,
   "metadata": {},
   "outputs": [],
   "source": [
    "import os\n",
    "import time\n",
    "from pathlib import Path"
   ]
  },
  {
   "cell_type": "code",
   "execution_count": null,
   "metadata": {},
   "outputs": [],
   "source": [
    "def get_file_size(filename) -> None:\n",
    "    size = os.stat(filename).st_size\n",
    "    if size < 1024:\n",
    "        unit = \"bytes\"\n",
    "    elif size < 1024 ** 2 :\n",
    "        unit = \"kilobytes\"\n",
    "        size = size / (1024)\n",
    "    elif size < 1024 ** 3:\n",
    "        unit = \"megabytes\"\n",
    "        size = size / (1024 ** 2)\n",
    "    else:\n",
    "        unit = \"gigabytes\"\n",
    "        size = size / (1024 ** 3)\n",
    "    print(f'{filename} is {round(size, 4)} {unit}')\n",
    "\n",
    "def time_loading(filename: str) -> None:\n",
    "    get_file_size(filename)\n",
    "    start = time.perf_counter()\n",
    "    df = pl.read_csv(filename, has_header = True)\n",
    "    print(f\"Used: {round(time.perf_counter() - start, 4)}s\")\n",
    "    del df"
   ]
  },
  {
   "cell_type": "markdown",
   "metadata": {},
   "source": [
    "# Inspect Version"
   ]
  },
  {
   "cell_type": "code",
   "execution_count": null,
   "metadata": {},
   "outputs": [],
   "source": [
    "import platform\n",
    "import pandas as pd\n",
    "import polars as pl\n",
    "import numpy as np\n",
    "\n",
    "print(f'Using Python of {platform.python_version()} version')\n",
    "print(f'Using Polars of {pl.__version__} version')\n",
    "print(f'Using Pandas of {pd.__version__} version')\n",
    "print(f'Using Numpy of {np.__version__} version')"
   ]
  },
  {
   "cell_type": "markdown",
   "metadata": {},
   "source": [
    "# Loading data using Polars"
   ]
  },
  {
   "cell_type": "code",
   "execution_count": null,
   "metadata": {},
   "outputs": [],
   "source": [
    "csv_data_dir = Path(\"data/csv\")\n",
    "for csv_file in csv_data_dir.iterdir():\n",
    "    time_loading(csv_file)"
   ]
  }
 ],
 "metadata": {
  "kernelspec": {
   "display_name": "Python 3.10.6 ('phuse_china_sde_2022')",
   "language": "python",
   "name": "python3"
  },
  "language_info": {
   "codemirror_mode": {
    "name": "ipython",
    "version": 3
   },
   "file_extension": ".py",
   "mimetype": "text/x-python",
   "name": "python",
   "nbconvert_exporter": "python",
   "pygments_lexer": "ipython3",
   "version": "3.10.6"
  },
  "orig_nbformat": 4,
  "vscode": {
   "interpreter": {
    "hash": "a78cd59b56d8276436f94c001ac862844e80f8602644ce8ddf30bf559b0a9b1f"
   }
  }
 },
 "nbformat": 4,
 "nbformat_minor": 2
}
