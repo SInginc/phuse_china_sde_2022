{
 "cells": [
  {
   "cell_type": "markdown",
   "metadata": {},
   "source": [
    "# Import"
   ]
  },
  {
   "cell_type": "code",
   "execution_count": 1,
   "metadata": {},
   "outputs": [],
   "source": [
    "import os\n",
    "import time"
   ]
  },
  {
   "cell_type": "markdown",
   "metadata": {},
   "source": [
    "# Inspect data"
   ]
  },
  {
   "cell_type": "code",
   "execution_count": 2,
   "metadata": {},
   "outputs": [
    {
     "name": "stdout",
     "output_type": "stream",
     "text": [
      "data/1000000.csv is 0.1498 GigaBytes\n",
      "data/10000000.csv is 1.5078 GigaBytes\n"
     ]
    }
   ],
   "source": [
    "data_1m = \"data/1000000.csv\"\n",
    "data_10m = \"data/10000000.csv\"\n",
    "\n",
    "print(f'{data_1m} is {round(os.stat(data_1m).st_size / (1024 * 1024 * 1024), 4)} GigaBytes')\n",
    "print(f'{data_10m} is {round(os.stat(data_10m).st_size / (1024 * 1024 * 1024), 4)} GigaBytes')"
   ]
  },
  {
   "cell_type": "markdown",
   "metadata": {},
   "source": [
    "# Inspect Version"
   ]
  },
  {
   "cell_type": "code",
   "execution_count": 4,
   "metadata": {},
   "outputs": [
    {
     "name": "stdout",
     "output_type": "stream",
     "text": [
      "Using Python of 3.10.6 version\n",
      "Using Polars of 0.14.19 version\n",
      "Using Pandas of 1.5.0 version\n",
      "Using Numpy of 1.23.4 version\n",
      "CPU info: x86_64\n",
      "RAM info: 13277974528\n"
     ]
    }
   ],
   "source": [
    "import psutil\n",
    "import platform\n",
    "import pandas as pd\n",
    "import polars as pl\n",
    "import numpy as np\n",
    "\n",
    "print(f'Using Python of {platform.python_version()} version')\n",
    "print(f'Using Polars of {pl.__version__} version')\n",
    "print(f'Using Pandas of {pd.__version__} version')\n",
    "print(f'Using Numpy of {np.__version__} version')\n",
    "print(f\"CPU info: {platform.processor()}\")\n",
    "print(f\"RAM info: {psutil.virtual_memory().total}\")"
   ]
  },
  {
   "cell_type": "markdown",
   "metadata": {},
   "source": [
    "# Loading data using Polars"
   ]
  },
  {
   "cell_type": "code",
   "execution_count": 6,
   "metadata": {},
   "outputs": [
    {
     "name": "stdout",
     "output_type": "stream",
     "text": [
      "Loading 0.1498 GB file\n",
      "Used: 0.2256s\n",
      "Loading 1.5078 GB file\n",
      "Used: 65.2586s\n"
     ]
    }
   ],
   "source": [
    "start = time.perf_counter()\n",
    "df = pl.read_csv(data_1m, has_header=True)\n",
    "print(f\"Loading {round(os.stat(data_1m).st_size / (1024 * 1024 * 1024), 4)} GB file\\nUsed: {round(time.perf_counter() - start, 4)}s\")\n",
    "del df\n",
    "start = time.perf_counter()\n",
    "df = pl.read_csv(data_10m, has_header=True)\n",
    "print(f\"Loading {round(os.stat(data_10m).st_size / (1024 * 1024 * 1024), 4)} GB file\\nUsed: {round(time.perf_counter() - start, 4)}s\")\n",
    "del df"
   ]
  }
 ],
 "metadata": {
  "kernelspec": {
   "display_name": "Python 3.10.6 ('phuse_china_sde_2022')",
   "language": "python",
   "name": "python3"
  },
  "language_info": {
   "codemirror_mode": {
    "name": "ipython",
    "version": 3
   },
   "file_extension": ".py",
   "mimetype": "text/x-python",
   "name": "python",
   "nbconvert_exporter": "python",
   "pygments_lexer": "ipython3",
   "version": "3.10.6"
  },
  "orig_nbformat": 4,
  "vscode": {
   "interpreter": {
    "hash": "a78cd59b56d8276436f94c001ac862844e80f8602644ce8ddf30bf559b0a9b1f"
   }
  }
 },
 "nbformat": 4,
 "nbformat_minor": 2
}
